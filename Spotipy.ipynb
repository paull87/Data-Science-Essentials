{
 "cells": [
  {
   "cell_type": "code",
   "execution_count": null,
   "metadata": {},
   "outputs": [],
   "source": [
    "import spotipy\n",
    "from spotipy.oauth2 import SpotifyClientCredentials\n",
    "import pprint"
   ]
  },
  {
   "cell_type": "code",
   "execution_count": 94,
   "metadata": {},
   "outputs": [],
   "source": [
    "client_credentials_manager = SpotifyClientCredentials(client_id='aa3510e4fdff446da63b5e2fb13bf618', client_secret='d5add7793fd948f693aac14ea0e85969')"
   ]
  },
  {
   "cell_type": "code",
   "execution_count": 95,
   "metadata": {},
   "outputs": [],
   "source": [
    "spotify = spotipy.Spotify(client_credentials_manager=client_credentials_manager)"
   ]
  },
  {
   "cell_type": "code",
   "execution_count": 96,
   "metadata": {},
   "outputs": [],
   "source": [
    "search = 'Mariah+Carey'"
   ]
  },
  {
   "cell_type": "code",
   "execution_count": 97,
   "metadata": {},
   "outputs": [],
   "source": [
    "results = spotify.search(search, type='track', market='GB')"
   ]
  },
  {
   "cell_type": "code",
   "execution_count": 1,
   "metadata": {},
   "outputs": [
    {
     "ename": "NameError",
     "evalue": "name 'results' is not defined",
     "traceback": [
      "\u001b[1;31m---------------------------------------------------------------------------\u001b[0m",
      "\u001b[1;31mNameError\u001b[0m                                 Traceback (most recent call last)",
      "\u001b[1;32m<ipython-input-1-100f62972f2f>\u001b[0m in \u001b[0;36m<module>\u001b[1;34m()\u001b[0m\n\u001b[1;32m----> 1\u001b[1;33m \u001b[0mresults\u001b[0m\u001b[1;33m\u001b[0m\u001b[0m\n\u001b[0m",
      "\u001b[1;31mNameError\u001b[0m: name 'results' is not defined"
     ],
     "output_type": "error"
    }
   ],
   "source": [
    "results"
   ]
  },
  {
   "cell_type": "code",
   "execution_count": 99,
   "metadata": {},
   "outputs": [
    {
     "name": "stdout",
     "output_type": "stream",
     "text": [
      "album:The Emancipation of Mimi (International Jewel)\n",
      "\trelease:2005\n",
      "\ttrackname:We Belong Together\n",
      "album:Daydream\n",
      "\trelease:1995-09-26\n",
      "\ttrackname:Always Be My Baby\n",
      "album:E=MC² (UK - Standard)\n",
      "\trelease:2008-01-01\n",
      "\ttrackname:Touch My Body\n",
      "album:Daydream\n",
      "\trelease:1995-09-26\n",
      "\ttrackname:Fantasy\n",
      "album:Music Box\n",
      "\trelease:1993-08-04\n",
      "\ttrackname:Hero\n",
      "album:Music Box\n",
      "\trelease:1993-08-04\n",
      "\ttrackname:Without You\n",
      "album:It Ain't Safe No More. . .\n",
      "\trelease:2002-01-01\n",
      "\ttrackname:I Know What You Want\n",
      "album:Memoirs of an imperfect Angel (International Version)\n",
      "\trelease:2009-01-01\n",
      "\ttrackname:Obsessed\n",
      "album:My Love Is Your Love\n",
      "\trelease:1998-11-17\n",
      "\ttrackname:When You Believe\n",
      "album:The Emancipation of Mimi (UK - Reissue)\n",
      "\trelease:2005-01-01\n",
      "\ttrackname:It's Like That\n"
     ]
    }
   ],
   "source": [
    "for item in results['tracks']['items']:\n",
    "    #pprint.pprint(item)\n",
    "    print('album: {album[name]}\\n\\trelease: {album[release_date]}\\n\\ttrackname: {name}'.format(**item))"
   ]
  },
  {
   "cell_type": "code",
   "execution_count": 100,
   "metadata": {},
   "outputs": [
    {
     "ename": "KeyError",
     "evalue": "'artists'",
     "traceback": [
      "\u001b[1;31m---------------------------------------------------------------------------\u001b[0m",
      "\u001b[1;31mKeyError\u001b[0m                                  Traceback (most recent call last)",
      "\u001b[1;32m<ipython-input-100-09f06eb35698>\u001b[0m in \u001b[0;36m<module>\u001b[1;34m()\u001b[0m\n\u001b[1;32m----> 1\u001b[1;33m \u001b[1;32mfor\u001b[0m \u001b[0mresult\u001b[0m \u001b[1;32min\u001b[0m \u001b[0mresults\u001b[0m\u001b[1;33m[\u001b[0m\u001b[1;34m'artists'\u001b[0m\u001b[1;33m]\u001b[0m\u001b[1;33m[\u001b[0m\u001b[1;34m'items'\u001b[0m\u001b[1;33m]\u001b[0m\u001b[1;33m:\u001b[0m\u001b[1;33m\u001b[0m\u001b[0m\n\u001b[0m\u001b[0;32m      2\u001b[0m     \u001b[0mprint\u001b[0m\u001b[1;33m(\u001b[0m\u001b[1;34m'{name}:\\n\\turi: {uri}\\n\\tURL: {external_urls[spotify]}'\u001b[0m\u001b[1;33m.\u001b[0m\u001b[0mformat\u001b[0m\u001b[1;33m(\u001b[0m\u001b[1;33m**\u001b[0m\u001b[0mresult\u001b[0m\u001b[1;33m)\u001b[0m\u001b[1;33m)\u001b[0m\u001b[1;33m\u001b[0m\u001b[0m\n",
      "\u001b[1;31mKeyError\u001b[0m: 'artists'"
     ],
     "output_type": "error"
    }
   ],
   "source": [
    "for result in results['artists']['items']:\n",
    "    print('{name}:\\n\\turi: {uri}\\n\\tURL: {external_urls[spotify]}'.format(**result))"
   ]
  },
  {
   "cell_type": "code",
   "execution_count": 105,
   "metadata": {},
   "outputs": [
    {
     "name": "stdout",
     "output_type": "stream",
     "text": [
      "poo\n"
     ]
    }
   ],
   "source": [
    "print('{}'.format('poo'))"
   ]
  },
  {
   "cell_type": "code",
   "execution_count": null,
   "metadata": {},
   "outputs": [],
   "source": [
    ""
   ]
  }
 ],
 "metadata": {
  "kernelspec": {
   "display_name": "Python 3",
   "language": "python",
   "name": "python3"
  },
  "language_info": {
   "codemirror_mode": {
    "name": "ipython",
    "version": 3.0
   },
   "file_extension": ".py",
   "mimetype": "text/x-python",
   "name": "python",
   "nbconvert_exporter": "python",
   "pygments_lexer": "ipython3",
   "version": "3.5.3"
  }
 },
 "nbformat": 4,
 "nbformat_minor": 0
}