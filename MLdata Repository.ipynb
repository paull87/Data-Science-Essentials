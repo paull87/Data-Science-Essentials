{
 "cells": [
  {
   "cell_type": "code",
   "execution_count": 1,
   "metadata": {},
   "outputs": [],
   "source": [
    "from sklearn.datasets import fetch_mldata\n",
    "earthquakes = fetch_mldata('global-earthquakes')"
   ]
  },
  {
   "cell_type": "code",
   "execution_count": 3,
   "metadata": {},
   "outputs": [
    {
     "name": "stdout",
     "output_type": "stream",
     "text": [
      "[[  3.46098000e+04  -9.21000000e+00   1.50630000e+02   5.30000000e+00]\n",
      " [  5.22298000e+04  -1.50100000e+01  -1.73960000e+02   5.00000000e+00]\n",
      " [  1.14237500e+05  -3.55100000e+01  -1.62100000e+01   6.00000000e+00]\n",
      " ..., \n",
      " [  2.55531500e+04  -3.35000000e+01  -7.21700000e+01   5.00000000e+00]\n",
      " [  8.54490000e+04  -3.54600000e+01  -7.28500000e+01   5.40000000e+00]\n",
      " [  9.30398300e+04   5.44700000e+01   1.10230000e+02   5.30000000e+00]]\n"
     ]
    }
   ],
   "source": [
    "print(earthquakes.data)"
   ]
  },
  {
   "cell_type": "code",
   "execution_count": 4,
   "metadata": {},
   "outputs": [
    {
     "name": "stdout",
     "output_type": "stream",
     "text": [
      "(59209, 4)\n"
     ]
    }
   ],
   "source": [
    "print(earthquakes.data.shape)"
   ]
  },
  {
   "cell_type": "code",
   "execution_count": 5,
   "metadata": {},
   "outputs": [
    {
     "name": "stdout",
     "output_type": "stream",
     "text": [
      "[[1973 1973 1973 ..., 2010 2010 2010]\n",
      " [   1    1    1 ...,    3    3    3]\n",
      " [   1    1    1 ...,   19   19   19]]\n"
     ]
    }
   ],
   "source": [
    "print(earthquakes.target)"
   ]
  },
  {
   "cell_type": "code",
   "execution_count": null,
   "metadata": {},
   "outputs": [],
   "source": []
  }
 ],
 "metadata": {
  "kernelspec": {
   "display_name": "Python 3",
   "language": "python",
   "name": "python3"
  },
  "language_info": {
   "codemirror_mode": {
    "name": "ipython",
    "version": 3
   },
   "file_extension": ".py",
   "mimetype": "text/x-python",
   "name": "python",
   "nbconvert_exporter": "python",
   "pygments_lexer": "ipython3",
   "version": "3.5.3"
  }
 },
 "nbformat": 4,
 "nbformat_minor": 2
}
