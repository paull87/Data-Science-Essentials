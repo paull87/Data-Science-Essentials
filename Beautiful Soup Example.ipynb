{
 "cells": [
  {
   "cell_type": "code",
   "execution_count": 5,
   "metadata": {},
   "outputs": [],
   "source": [
    "import requests\n",
    "from bs4 import BeautifulSoup"
   ]
  },
  {
   "cell_type": "code",
   "execution_count": 7,
   "metadata": {},
   "outputs": [
    {
     "data": {
      "text/plain": [
       "200"
      ]
     },
     "execution_count": 7,
     "metadata": {},
     "output_type": "execute_result"
    }
   ],
   "source": [
    "url = 'https://en.wikipedia.org/wiki/William_Shakespeare'\n",
    "req = requests.get(url)\n",
    "req.status_code"
   ]
  },
  {
   "cell_type": "code",
   "execution_count": 8,
   "metadata": {},
   "outputs": [],
   "source": [
    "soup = BeautifulSoup(req.text, 'html.parser')"
   ]
  },
  {
   "cell_type": "code",
   "execution_count": 10,
   "metadata": {},
   "outputs": [
    {
     "data": {
      "text/plain": [
       "'William Shakespeare - Wikipedia'"
      ]
     },
     "execution_count": 10,
     "metadata": {},
     "output_type": "execute_result"
    }
   ],
   "source": [
    "soup.title.text"
   ]
  },
  {
   "cell_type": "code",
   "execution_count": 18,
   "metadata": {},
   "outputs": [
    {
     "name": "stdout",
     "output_type": "stream",
     "text": [
      "Sonnets by William Shakespeare -> /wiki/Category:Sonnets_by_William_Shakespeare\n",
      "William Shakespeare -> /wiki/Category:William_Shakespeare\n",
      "1564 births -> /wiki/Category:1564_births\n",
      "1616 deaths -> /wiki/Category:1616_deaths\n",
      "16th-century English male actors -> /wiki/Category:16th-century_English_male_actors\n",
      "English male stage actors -> /wiki/Category:English_male_stage_actors\n",
      "16th-century English writers -> /wiki/Category:16th-century_English_writers\n",
      "17th-century English writers -> /wiki/Category:17th-century_English_writers\n",
      "16th-century dramatists and playwrights -> /wiki/Category:16th-century_dramatists_and_playwrights\n",
      "17th-century English dramatists and playwrights -> /wiki/Category:17th-century_English_dramatists_and_playwrights\n",
      "16th-century English poets -> /wiki/Category:16th-century_English_poets\n",
      "Burials in Warwickshire -> /wiki/Category:Burials_in_Warwickshire\n",
      "People from Warwickshire -> /wiki/Category:People_from_Warwickshire\n",
      "17th-century English poets -> /wiki/Category:17th-century_English_poets\n",
      "English Renaissance dramatists -> /wiki/Category:English_Renaissance_dramatists\n",
      "English male writers -> /wiki/Category:English_male_writers\n",
      "People educated at King Edward VI School, Stratford-upon-Avon -> /wiki/Category:People_educated_at_King_Edward_VI_School,_Stratford-upon-Avon\n",
      "People from Stratford-upon-Avon -> /wiki/Category:People_from_Stratford-upon-Avon\n",
      "People of the Elizabethan era -> /wiki/Category:People_of_the_Elizabethan_era\n",
      "People of the Stuart period -> /wiki/Category:People_of_the_Stuart_period\n",
      "Shakespeare family -> /wiki/Category:Shakespeare_family\n",
      "Sonneteers -> /wiki/Category:Sonneteers\n",
      "King's Men (playing company) -> /wiki/Category:King%27s_Men_(playing_company)\n",
      "17th-century English male actors -> /wiki/Category:17th-century_English_male_actors\n",
      "English male dramatists and playwrights -> /wiki/Category:English_male_dramatists_and_playwrights\n",
      "English male poets -> /wiki/Category:English_male_poets\n"
     ]
    }
   ],
   "source": [
    "section = soup.find_all(id='mw-normal-catlinks')[0]\n",
    "for catlink in section.find_all('a')[1:]:\n",
    "    print('{} -> {}'.format(catlink.text, catlink.get('href')))"
   ]
  },
  {
   "cell_type": "code",
   "execution_count": null,
   "metadata": {},
   "outputs": [],
   "source": []
  }
 ],
 "metadata": {
  "kernelspec": {
   "display_name": "Python 3",
   "language": "python",
   "name": "python3"
  },
  "language_info": {
   "codemirror_mode": {
    "name": "ipython",
    "version": 3
   },
   "file_extension": ".py",
   "mimetype": "text/x-python",
   "name": "python",
   "nbconvert_exporter": "python",
   "pygments_lexer": "ipython3",
   "version": "3.5.3"
  }
 },
 "nbformat": 4,
 "nbformat_minor": 2
}
